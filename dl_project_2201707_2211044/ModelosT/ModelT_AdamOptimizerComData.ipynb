{
  "cells": [
    {
      "cell_type": "code",
      "execution_count": null,
      "metadata": {
        "id": "GogVDivVBr5x"
      },
      "outputs": [],
      "source": [
        "import os\n",
        "from google.colab import drive\n",
        "drive.mount('/content/drive')"
      ]
    },
    {
      "cell_type": "code",
      "execution_count": null,
      "metadata": {
        "colab": {
          "base_uri": "https://localhost:8080/"
        },
        "id": "vGbL9AWOCHhH",
        "outputId": "c61cda08-049c-4fc7-ecb4-e35530476008"
      },
      "outputs": [],
      "source": [
        "!unzip imagens.zip"
      ]
    },
    {
      "cell_type": "code",
      "execution_count": null,
      "metadata": {
        "id": "EL52r_q7CIc1"
      },
      "outputs": [],
      "source": [
        "import os\n",
        "base_dir = '/content/imagens'  # Diretório base após descompactação\n",
        "train_dir = os.path.join(base_dir, 'train')\n",
        "validation_dir = os.path.join(base_dir, 'validation')\n",
        "test_dir = os.path.join(base_dir, 'test')"
      ]
    },
    {
      "cell_type": "code",
      "execution_count": null,
      "metadata": {
        "colab": {
          "base_uri": "https://localhost:8080/"
        },
        "id": "tBzTtmtuCJwY",
        "outputId": "7df98545-ccf7-4a69-89fc-c8bd234ed428"
      },
      "outputs": [],
      "source": [
        "from keras.utils import image_dataset_from_directory\n",
        "IMG_SIZE = 150\n",
        "train_dataset = image_dataset_from_directory(\n",
        "    train_dir,\n",
        "    image_size=(IMG_SIZE, IMG_SIZE),\n",
        "    batch_size=32,\n",
        ")\n",
        "validation_dataset = image_dataset_from_directory(\n",
        "    validation_dir,\n",
        "    image_size=(IMG_SIZE, IMG_SIZE),\n",
        "    batch_size=32,\n",
        ")\n",
        "test_dataset = image_dataset_from_directory(\n",
        "    test_dir,\n",
        "    image_size=(IMG_SIZE, IMG_SIZE),\n",
        "    batch_size=32,\n",
        ")"
      ]
    },
    {
      "cell_type": "code",
      "execution_count": null,
      "metadata": {
        "colab": {
          "base_uri": "https://localhost:8080/"
        },
        "id": "RpfPQA9KCLDH",
        "outputId": "acb12111-7815-4bb6-fb31-08b12ad1067e"
      },
      "outputs": [],
      "source": [
        "from tensorflow import keras\n",
        "from tensorflow.keras import layers\n",
        "from tensorflow.keras.preprocessing import image\n",
        "import numpy as np\n",
        "import tensorflow as tf\n",
        "\n",
        "from tensorflow.keras.applications import VGG16\n",
        "\n",
        "conv_base = VGG16(weights='imagenet', include_top=False, input_shape=(IMG_SIZE, IMG_SIZE, 3))\n",
        "conv_base.trainable = False\n",
        "\n",
        "\n",
        "data_augmentation = keras.Sequential(\n",
        " [\n",
        " layers.RandomFlip(\"horizontal\"),\n",
        " layers.RandomRotation(0.1),\n",
        " layers.RandomZoom(0.2),\n",
        " ]\n",
        ")\n",
        "\n",
        "inputs = keras.Input(shape=(IMG_SIZE, IMG_SIZE, 3))\n",
        "x = data_augmentation(inputs)\n",
        "x = keras.applications.vgg16.preprocess_input(x)\n",
        "x = conv_base(x)\n",
        "x = layers.Flatten()(x)\n",
        "x = layers.Dense(256, activation='relu')(x)\n",
        "x = layers.Dropout(0.5)(x)\n",
        "outputs = layers.Dense(10, activation=\"softmax\")(x)\n",
        "model = keras.Model(inputs, outputs)"
      ]
    },
    {
      "cell_type": "code",
      "execution_count": null,
      "metadata": {
        "id": "r-mYs4iuCM1-"
      },
      "outputs": [],
      "source": [
        "from tensorflow.keras.optimizers import Adam\n",
        "\n",
        "model.compile(\n",
        "    optimizer=Adam(learning_rate=0.0001),\n",
        "    loss='sparse_categorical_crossentropy',\n",
        "    metrics=['accuracy']\n",
        ")"
      ]
    },
    {
      "cell_type": "code",
      "execution_count": null,
      "metadata": {
        "id": "7ST6Wh_tCTCW"
      },
      "outputs": [],
      "source": [
        "from keras.callbacks import ReduceLROnPlateau, EarlyStopping, ModelCheckpoint, TensorBoard\n",
        "\n",
        "reduce_lr = ReduceLROnPlateau(\n",
        "    monitor='val_loss',\n",
        "    factor=0.2,\n",
        "    patience=2,\n",
        "    min_lr=0.00001\n",
        ")"
      ]
    },
    {
      "cell_type": "code",
      "execution_count": null,
      "metadata": {
        "id": "HUc6HUy3CUQF"
      },
      "outputs": [],
      "source": [
        "early_stopping = EarlyStopping(\n",
        "    monitor='val_loss',\n",
        "    patience=10,\n",
        "    restore_best_weights=True\n",
        ")"
      ]
    },
    {
      "cell_type": "code",
      "execution_count": null,
      "metadata": {
        "id": "-HPTD0pXCVsC"
      },
      "outputs": [],
      "source": [
        "model_checkpoint = ModelCheckpoint(\n",
        "    filepath='models/ModelT_AdamOptimizerComData.h5',\n",
        "    save_best_only=True,\n",
        "    monitor='val_loss'\n",
        ")\n"
      ]
    },
    {
      "cell_type": "code",
      "execution_count": null,
      "metadata": {
        "colab": {
          "base_uri": "https://localhost:8080/"
        },
        "id": "ZiYH6y9fCXr7",
        "outputId": "bb4b6d36-3df2-44c7-d67b-a7e29cce00d0"
      },
      "outputs": [],
      "source": [
        "callbacks = [reduce_lr, early_stopping, model_checkpoint]\n",
        "\n",
        "history = model.fit(\n",
        "    train_dataset,\n",
        "    validation_data=validation_dataset,\n",
        "    epochs=50,\n",
        "    callbacks=callbacks\n",
        ")"
      ]
    },
    {
      "cell_type": "code",
      "execution_count": null,
      "metadata": {
        "colab": {
          "base_uri": "https://localhost:8080/",
          "height": 927
        },
        "id": "fX8jQP55CYcM",
        "outputId": "4150cd4a-0362-47ab-c203-d8918026e213"
      },
      "outputs": [],
      "source": [
        "import matplotlib.pyplot as plt\n",
        "plt.plot(history.history['accuracy'], 'bo', label='Training acc')\n",
        "plt.plot(history.history['val_accuracy'], 'b', label='Validation acc')\n",
        "plt.title('Training and validation accuracy')\n",
        "plt.xlabel('Epochs')\n",
        "plt.ylabel('Accuracy')\n",
        "plt.legend()\n",
        "plt.show()\n",
        "\n",
        "plt.plot(history.history['loss'], 'bo', label='Training loss')\n",
        "plt.plot(history.history['val_loss'], 'b', label='Validation loss')\n",
        "plt.title('Training and validation loss')\n",
        "plt.xlabel('Epochs')\n",
        "plt.ylabel('Loss')\n",
        "plt.legend()\n",
        "plt.show()"
      ]
    },
    {
      "cell_type": "code",
      "execution_count": null,
      "metadata": {
        "colab": {
          "base_uri": "https://localhost:8080/"
        },
        "id": "1WtXi9t1Ce0p",
        "outputId": "96208f6b-3485-4c6c-86c5-55f8896108d5"
      },
      "outputs": [],
      "source": [
        "val_loss, val_acc = model.evaluate(validation_dataset)\n",
        "print('Validation Accuracy:', val_acc)\n"
      ]
    },
    {
      "cell_type": "code",
      "execution_count": null,
      "metadata": {
        "colab": {
          "base_uri": "https://localhost:8080/"
        },
        "id": "-zwKKkPZCf48",
        "outputId": "796d3d23-1177-4247-ec7a-2800ae619828"
      },
      "outputs": [],
      "source": [
        "loss, accuracy = model.evaluate(test_dataset)\n",
        "print(f\"Loss: {loss}, Accuracy: {accuracy}\")"
      ]
    },
    {
      "cell_type": "code",
      "execution_count": null,
      "metadata": {
        "colab": {
          "base_uri": "https://localhost:8080/",
          "height": 1000
        },
        "id": "YhVFgKvcCiS5",
        "outputId": "2753ace6-f84b-450b-8288-bb1d44aeb312"
      },
      "outputs": [],
      "source": [
        "import numpy as np\n",
        "from sklearn.metrics import confusion_matrix, classification_report\n",
        "import seaborn as sns\n",
        "import matplotlib.pyplot as plt\n",
        "\n",
        "# Function to evaluate the model and get true and predicted labels\n",
        "def evaluate_model(model, dataset):\n",
        "    all_labels = []\n",
        "    all_predictions = []\n",
        "\n",
        "    for images, labels in dataset:\n",
        "        predictions = model.predict(images)\n",
        "        predicted_labels = np.argmax(predictions, axis=1)\n",
        "        true_labels = labels.numpy()  # Convert to numpy array if not already\n",
        "\n",
        "        all_labels.extend(true_labels)\n",
        "        all_predictions.extend(predicted_labels)\n",
        "\n",
        "    return np.array(all_labels), np.array(all_predictions)\n",
        "\n",
        "# Get true and predicted labels for the test dataset\n",
        "true_labels, predicted_labels = evaluate_model(model, test_dataset)\n",
        "\n",
        "# Compute the confusion matrix\n",
        "conf_matrix = confusion_matrix(true_labels, predicted_labels)\n",
        "\n",
        "# Plot the confusion matrix\n",
        "plt.figure(figsize=(10, 8))\n",
        "sns.heatmap(conf_matrix, annot=True, fmt=\"d\", cmap=\"Blues\", xticklabels=range(10), yticklabels=range(10))\n",
        "plt.title('Matriz de Confusão')\n",
        "plt.xlabel('Previsão')\n",
        "plt.ylabel('Realidade')\n",
        "plt.show()\n",
        "\n",
        "# Print classification report\n",
        "class_names = [str(i) for i in range(10)]  # Define class names based on your dataset\n",
        "print(classification_report(true_labels, predicted_labels, target_names=class_names))\n",
        "\n",
        "# Extract precision, recall, and F1-score for each class from classification report\n",
        "report = classification_report(true_labels, predicted_labels, target_names=class_names, output_dict=True)\n",
        "\n",
        "metrics = {'precision': [], 'recall': [], 'f1-score': []}\n",
        "for cls in class_names:\n",
        "    metrics['precision'].append(report[cls]['precision'])\n",
        "    metrics['recall'].append(report[cls]['recall'])\n",
        "    metrics['f1-score'].append(report[cls]['f1-score'])\n",
        "\n",
        "# Plot precision, recall, and F1-score\n",
        "plt.figure(figsize=(10, 6))\n",
        "bar_width = 0.2\n",
        "index = np.arange(len(class_names))\n",
        "\n",
        "plt.bar(index, metrics['precision'], bar_width, label='Precision')\n",
        "plt.bar(index + bar_width, metrics['recall'], bar_width, label='Recall')\n",
        "plt.bar(index + 2*bar_width, metrics['f1-score'], bar_width, label='F1-score')\n",
        "\n",
        "plt.xlabel('Class')\n",
        "plt.ylabel('Scores')\n",
        "plt.title('Precision, Recall e F1-score para cada classe')\n",
        "plt.xticks(index + bar_width, class_names)\n",
        "plt.legend()\n",
        "\n",
        "plt.tight_layout()\n",
        "plt.show()"
      ]
    }
  ],
  "metadata": {
    "accelerator": "GPU",
    "colab": {
      "gpuType": "T4",
      "provenance": []
    },
    "kernelspec": {
      "display_name": "Python 3",
      "name": "python3"
    },
    "language_info": {
      "name": "python"
    }
  },
  "nbformat": 4,
  "nbformat_minor": 0
}
