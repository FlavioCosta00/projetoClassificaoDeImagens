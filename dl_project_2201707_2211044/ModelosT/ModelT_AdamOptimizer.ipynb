{
 "cells": [
  {
   "cell_type": "code",
   "execution_count": null,
   "metadata": {},
   "outputs": [],
   "source": [
    "import os, shutil\n",
    "train_dir = 'C:/Users/flavi/Desktop/Projeto-20240530/train'\n",
    "validation_dir = 'C:/Users/flavi/Desktop/Projeto-20240530/validation'\n",
    "test_dir = 'C:/Users/flavi/Desktop/Projeto-20240530/test'"
   ]
  },
  {
   "cell_type": "code",
   "execution_count": null,
   "metadata": {},
   "outputs": [],
   "source": [
    "from keras.utils import image_dataset_from_directory\n",
    "IMG_SIZE = 150\n",
    "train_dataset = image_dataset_from_directory(\n",
    "train_dir,\n",
    "image_size=(IMG_SIZE, IMG_SIZE),\n",
    "batch_size=32)\n",
    "validation_dataset = image_dataset_from_directory(\n",
    "validation_dir,\n",
    "image_size=(IMG_SIZE, IMG_SIZE),\n",
    "batch_size=32)\n",
    "test_dataset = image_dataset_from_directory(\n",
    "test_dir,\n",
    "image_size=(IMG_SIZE, IMG_SIZE),\n",
    "batch_size=32)"
   ]
  },
  {
   "cell_type": "code",
   "execution_count": null,
   "metadata": {},
   "outputs": [],
   "source": [
    "from tensorflow import keras\n",
    "from tensorflow.keras import layers\n",
    "from tensorflow.keras.preprocessing import image\n",
    "import numpy as np\n",
    "import tensorflow as tf  # Import TensorFlow explicitly\n",
    "\n",
    "from tensorflow.keras.applications import VGG16  # Correct import statement for VGG16\n",
    "\n",
    "conv_base = VGG16(weights='imagenet', include_top=False, input_shape=(IMG_SIZE, IMG_SIZE, 3))\n",
    "\n",
    "# Função para extrair características e rótulos dos datasets\n",
    "def get_features_and_labels(dataset):\n",
    "    all_features = []\n",
    "    all_labels = []\n",
    "    for images, labels in dataset:\n",
    "        preprocessed_images = keras.applications.vgg16.preprocess_input(images)\n",
    "        features = conv_base.predict(preprocessed_images)\n",
    "        all_features.append(features)\n",
    "        all_labels.append(labels)\n",
    "    return np.concatenate(all_features), np.concatenate(all_labels)\n",
    "\n",
    "\n",
    "# Extrair características dos datasets de treino, validação e teste\n",
    "train_features, train_labels = get_features_and_labels(train_dataset)\n",
    "val_features, val_labels = get_features_and_labels(validation_dataset)\n",
    "test_features, test_labels = get_features_and_labels(test_dataset)\n",
    "\n",
    "# Definição do modelo denso a partir das características extraídas\n",
    "inputs = keras.Input(shape=(4, 4, 512))\n",
    "x = layers.Flatten()(inputs)\n",
    "x = layers.Dense(256, activation='relu')(x)\n",
    "x = layers.Dropout(0.5)(x)\n",
    "outputs = layers.Dense(10, activation=\"softmax\")(x)\n",
    "model = keras.Model(inputs, outputs)"
   ]
  },
  {
   "cell_type": "code",
   "execution_count": null,
   "metadata": {},
   "outputs": [],
   "source": [
    "model.compile(\n",
    "    optimizer='adam',\n",
    "    loss='sparse_categorical_crossentropy',\n",
    "    metrics=['accuracy']\n",
    ")"
   ]
  },
  {
   "cell_type": "code",
   "execution_count": null,
   "metadata": {},
   "outputs": [],
   "source": [
    "from keras.callbacks import ReduceLROnPlateau\n",
    "\n",
    "reduce_lr = ReduceLROnPlateau(\n",
    "    monitor='val_loss',\n",
    "    factor=0.2,\n",
    "    patience=2,\n",
    "    min_lr=0.001\n",
    ")"
   ]
  },
  {
   "cell_type": "code",
   "execution_count": null,
   "metadata": {},
   "outputs": [],
   "source": [
    "from keras.callbacks import EarlyStopping\n",
    "\n",
    "early_stopping = EarlyStopping(\n",
    "    monitor='val_loss',\n",
    "    patience=10,\n",
    "    restore_best_weights=True\n",
    ")"
   ]
  },
  {
   "cell_type": "code",
   "execution_count": null,
   "metadata": {},
   "outputs": [],
   "source": [
    "from keras.callbacks import ModelCheckpoint\n",
    "\n",
    "model_checkpoint = ModelCheckpoint(\n",
    "    filepath='C:/Users/flavi/Desktop/projetoClassificaoDeImagens/dl_project_2201707_2211044/ModelosT/ModelT_AdamOptimizer.keras',\n",
    "    save_best_only=True,\n",
    "    monitor='val_loss'\n",
    ")"
   ]
  },
  {
   "cell_type": "code",
   "execution_count": null,
   "metadata": {},
   "outputs": [],
   "source": [
    "callbacks = [reduce_lr, early_stopping, model_checkpoint]\n",
    "\n",
    "# Train the model using the extracted features\n",
    "history = model.fit(\n",
    "    train_features, train_labels,\n",
    "    epochs=50,\n",
    "    validation_data=(val_features, val_labels),\n",
    "    callbacks=callbacks\n",
    ")"
   ]
  },
  {
   "cell_type": "code",
   "execution_count": null,
   "metadata": {},
   "outputs": [],
   "source": [
    "import matplotlib.pyplot as plt\n",
    "plt.plot(history.history['accuracy'], 'bo', label='Training acc')\n",
    "plt.plot(history.history['val_accuracy'], 'b', label='Validation acc')\n",
    "plt.title('Training and validation accuracy')\n",
    "plt.xlabel('Epochs')\n",
    "plt.ylabel('Accuracy')\n",
    "plt.legend()\n",
    "plt.show()\n",
    "\n",
    "plt.plot(history.history['loss'], 'bo', label='Training loss')\n",
    "plt.plot(history.history['val_loss'], 'b', label='Validation loss')\n",
    "plt.title('Training and validation loss')\n",
    "plt.xlabel('Epochs')\n",
    "plt.ylabel('Loss')\n",
    "plt.legend()\n",
    "plt.show()"
   ]
  },
  {
   "cell_type": "code",
   "execution_count": null,
   "metadata": {},
   "outputs": [],
   "source": [
    "val_loss, val_acc = model.evaluate(val_features, val_labels)\n",
    "print('Validation Accuracy:', val_acc)\n"
   ]
  },
  {
   "cell_type": "code",
   "execution_count": null,
   "metadata": {},
   "outputs": [],
   "source": [
    "loss, accuracy = model.evaluate(test_features, test_labels)\n",
    "print(f\"Loss: {loss}, Accuracy: {accuracy}\")"
   ]
  },
  {
   "cell_type": "code",
   "execution_count": null,
   "metadata": {},
   "outputs": [],
   "source": [
    "import numpy as np\n",
    "from sklearn.metrics import confusion_matrix, classification_report\n",
    "import seaborn as sns\n",
    "import matplotlib.pyplot as plt\n",
    "\n",
    "def evaluate_model(model, features, labels):\n",
    "    predictions = model.predict(features)\n",
    "    predicted_labels = np.argmax(predictions, axis=1)  # Convert probabilities to class labels\n",
    "    return labels, predicted_labels  # Return true labels and predicted labels\n",
    "\n",
    "# Obter previsões e rótulos reais para o conjunto de testes\n",
    "true_labels, predicted_labels = evaluate_model(model, test_features, test_labels)\n",
    "\n",
    "# Compute the confusion matrix\n",
    "conf_matrix = confusion_matrix(true_labels, predicted_labels)\n",
    "\n",
    "# Plot the confusion matrix\n",
    "plt.figure(figsize=(10, 8))\n",
    "sns.heatmap(conf_matrix, annot=True, fmt=\"d\", cmap=\"Blues\", xticklabels=range(10), yticklabels=range(10))\n",
    "plt.title('Matriz de Confusão')\n",
    "plt.xlabel('Previsão')\n",
    "plt.ylabel('Realidade')\n",
    "plt.show()\n",
    "\n",
    "# Print classification report\n",
    "class_names = [str(i) for i in range(10)]  # Define class names based on your dataset\n",
    "print(classification_report(true_labels, predicted_labels, target_names=class_names))\n",
    "\n",
    "# Plot precision, recall, and F1-score\n",
    "report = classification_report(true_labels, predicted_labels, target_names=class_names, output_dict=True)\n",
    "\n",
    "metrics = {'precision': [], 'recall': [], 'f1-score': []}\n",
    "for cls in class_names:\n",
    "    metrics['precision'].append(report[cls]['precision'])\n",
    "    metrics['recall'].append(report[cls]['recall'])\n",
    "    metrics['f1-score'].append(report[cls]['f1-score'])\n",
    "\n",
    "plt.figure(figsize=(10, 6))\n",
    "bar_width = 0.2\n",
    "index = np.arange(len(class_names))\n",
    "\n",
    "plt.bar(index, metrics['precision'], bar_width, label='Precision')\n",
    "plt.bar(index + bar_width, metrics['recall'], bar_width, label='Recall')\n",
    "plt.bar(index + 2*bar_width, metrics['f1-score'], bar_width, label='F1-score')\n",
    "\n",
    "plt.xlabel('Class')\n",
    "plt.ylabel('Scores')\n",
    "plt.title('Precision, Recall e F1-score para cada classe')\n",
    "plt.xticks(index + bar_width, class_names)\n",
    "plt.legend()\n",
    "\n",
    "plt.tight_layout()\n",
    "plt.show()\n"
   ]
  }
 ],
 "metadata": {
  "kernelspec": {
   "display_name": "Python 3",
   "language": "python",
   "name": "python3"
  },
  "language_info": {
   "codemirror_mode": {
    "name": "ipython",
    "version": 3
   },
   "file_extension": ".py",
   "mimetype": "text/x-python",
   "name": "python",
   "nbconvert_exporter": "python",
   "pygments_lexer": "ipython3",
   "version": "3.12.3"
  }
 },
 "nbformat": 4,
 "nbformat_minor": 2
}
